{
 "cells": [
  {
   "cell_type": "markdown",
   "metadata": {},
   "source": [
    "<img src=\"task.PNG\">"
   ]
  },
  {
   "cell_type": "markdown",
   "metadata": {},
   "source": [
    "## Нужные библиотеки"
   ]
  },
  {
   "cell_type": "code",
   "execution_count": 57,
   "metadata": {},
   "outputs": [],
   "source": [
    "import numpy as np\n",
    "import matplotlib.pyplot as plt\n",
    "from sympy import *"
   ]
  },
  {
   "cell_type": "markdown",
   "metadata": {},
   "source": [
    "## Используемые функции"
   ]
  },
  {
   "cell_type": "code",
   "execution_count": 58,
   "metadata": {},
   "outputs": [],
   "source": [
    "def f(x):\n",
    "    return np.tan(x) - 2 * pow(x, 2)\n",
    "\n",
    "\n",
    "def bisection(xl, xr, eps=0.1):  \n",
    "    intervalLen = 0   \n",
    "    intervalLen = 0\n",
    "    halfInterval = 0\n",
    "    middle = 0 \n",
    "    while (xr - xl > eps):\n",
    "        print(xl, xr)\n",
    "        intervalLen = xr - xl\n",
    "        halfInterval = intervalLen / 2 \n",
    "        middle = xl + halfInterval\n",
    "        print(middle)\n",
    "        if np.sign(f(xl)) != np.sign(f(middle)):\n",
    "            xr = middle\n",
    "        else:\n",
    "            xl = middle    \n",
    "    return middle\n",
    "\n",
    "def dfdx(f):\n",
    "    y = diff(f)\n",
    "    return lambdify(x, y, 'numpy')\n",
    "\n",
    "def Newton(fx, x0, eps):\n",
    "    f_value = f(x0)\n",
    "    d = dfdx(fx)\n",
    "    iteration_counter = 0\n",
    "    while abs(f_value) > eps and iteration_counter < 100:\n",
    "        try:\n",
    "            x0 = x0 - f_value/d(x0)\n",
    "        except ZeroDivisionError as err:\n",
    "            print(\"Ошибка: {}\".format(err))\n",
    "            sys.exit(1)\n",
    "        f_value=f(x0)\n",
    "        iteration_counter += 1\n",
    "    if abs(f_value) > eps:\n",
    "        iteration_counter =- 1\n",
    "    return x0\n"
   ]
  },
  {
   "cell_type": "markdown",
   "metadata": {},
   "source": [
    "## Выполнение заданий"
   ]
  },
  {
   "cell_type": "markdown",
   "metadata": {},
   "source": [
    "\n",
    "<font color='red' size=\"5\">Необходимо определить единичный промежуток, на котором находится корень уравнения</font> "
   ]
  },
  {
   "cell_type": "markdown",
   "metadata": {},
   "source": [
    "$ x  \\in  [-0.5; 0.5]$"
   ]
  },
  {
   "cell_type": "code",
   "execution_count": 59,
   "metadata": {},
   "outputs": [
    {
     "data": {
      "text/plain": [
       "-1.0463024898437905"
      ]
     },
     "execution_count": 59,
     "metadata": {},
     "output_type": "execute_result"
    }
   ],
   "source": [
    "f(-0.5)"
   ]
  },
  {
   "cell_type": "code",
   "execution_count": 60,
   "metadata": {},
   "outputs": [
    {
     "data": {
      "text/plain": [
       "0.046302489843790484"
      ]
     },
     "execution_count": 60,
     "metadata": {},
     "output_type": "execute_result"
    }
   ],
   "source": [
    "f(0.5)"
   ]
  },
  {
   "cell_type": "code",
   "execution_count": 61,
   "metadata": {},
   "outputs": [
    {
     "data": {
      "image/png": "[encoded data removed]",
      "text/plain": [
       "<Figure size 432x432 with 1 Axes>"
      ]
     },
     "metadata": {
      "needs_background": "light"
     },
     "output_type": "display_data"
    }
   ],
   "source": [
    "x = np.linspace(-0.5, 0.5, 1000)\n",
    "y1 = x - x\n",
    "y2 = x\n",
    "for i in range(y2.size):\n",
    "    y2[i] = f(y2[i])\n",
    "plt.figure(figsize=(6, 6))\n",
    "plt.plot(x, y1)  \n",
    "plt.plot(x, y2)               \n",
    "plt.xlabel(\"x\", fontsize=14)  \n",
    "plt.ylabel(\"y\", fontsize=14) \n",
    "plt.grid(True)"
   ]
  },
  {
   "cell_type": "markdown",
   "metadata": {},
   "source": [
    "<font color='red' size=\"5\">Сузить промежуток в несколько раз, используя метод бисекции</font> "
   ]
  },
  {
   "cell_type": "code",
   "execution_count": 62,
   "metadata": {},
   "outputs": [
    {
     "name": "stdout",
     "output_type": "stream",
     "text": [
      "-0.5 0.5\n",
      "0.0\n",
      "-0.5 0.0\n",
      "-0.25\n",
      "-0.25 0.0\n",
      "-0.125\n",
      "-0.125 0.0\n",
      "-0.0625\n"
     ]
    },
    {
     "data": {
      "text/plain": [
       "-0.0625"
      ]
     },
     "execution_count": 62,
     "metadata": {},
     "output_type": "execute_result"
    }
   ],
   "source": [
    "bisection(-0.5, 0.5)"
   ]
  },
  {
   "cell_type": "markdown",
   "metadata": {},
   "source": [
    "* новый промежуток $ x  \\in  [-0.125; 0.0]$"
   ]
  },
  {
   "cell_type": "markdown",
   "metadata": {},
   "source": [
    "<font color='red' size=\"5\">Метод Ньютона</font> "
   ]
  },
  {
   "cell_type": "code",
   "execution_count": 63,
   "metadata": {},
   "outputs": [],
   "source": [
    "x = Symbol('x')\n",
    "y = tan(x) - 2 * pow(x, 2)"
   ]
  },
  {
   "cell_type": "code",
   "execution_count": 64,
   "metadata": {},
   "outputs": [
    {
     "data": {
      "text/plain": [
       "-1.2501520801165155e-08"
      ]
     },
     "execution_count": 64,
     "metadata": {},
     "output_type": "execute_result"
    }
   ],
   "source": [
    "Newton(y, -0.0625, 0.000001)"
   ]
  },
  {
   "cell_type": "markdown",
   "metadata": {},
   "source": [
    "<font color='red' size=\"5\">Ответ: -1.2501520801165155e-08 </font> "
   ]
  }
 ],
 "metadata": {
  "kernelspec": {
   "display_name": "Python 3",
   "language": "python",
   "name": "python3"
  },
  "language_info": {
   "codemirror_mode": {
    "name": "ipython",
    "version": 3
   },
   "file_extension": ".py",
   "mimetype": "text/x-python",
   "name": "python",
   "nbconvert_exporter": "python",
   "pygments_lexer": "ipython3",
   "version": "3.7.3"
  }
 },
 "nbformat": 4,
 "nbformat_minor": 2
}
