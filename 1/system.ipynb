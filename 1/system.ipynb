{
 "cells": [
  {
   "cell_type": "markdown",
   "metadata": {},
   "source": [
    "## Используемые библиотеки"
   ]
  },
  {
   "cell_type": "code",
   "execution_count": 5,
   "metadata": {},
   "outputs": [],
   "source": [
    "import numpy as np\n",
    "import math"
   ]
  },
  {
   "cell_type": "markdown",
   "metadata": {},
   "source": [
    "## Нужные функции"
   ]
  },
  {
   "cell_type": "code",
   "execution_count": 6,
   "metadata": {},
   "outputs": [],
   "source": [
    "def findDeterminant(m):\n",
    "    return m[0][0] * m[1][1] - m[0][1] * m[1][0]\n",
    "\n",
    "def getMinor(m):\n",
    "    minormatrix = np.zeros((2,2))\n",
    "    for i in range(2):\n",
    "        for j in range(2):\n",
    "            minormatrix[(i + 1) % 2][(j + 1) % 2] = m[i][j]\n",
    "    return minormatrix\n",
    "\n",
    "def getMatrixAdditions(m):\n",
    "    matrix = getMinor(m)\n",
    "    for i in range(2):\n",
    "        for j in range(2):\n",
    "            matrix[i][j] = pow(-1, i+j) * matrix[i][j]\n",
    "    return matrix\n",
    "\n",
    "def transponateMatrix(m): \n",
    "    temp = m[0][1]\n",
    "    m[0][1] = m[1][0]\n",
    "    m[1][0] = temp\n",
    "    return m\n",
    "\n",
    "def getInverse(_matrix):\n",
    "    _matrix = getMatrixAdditions(_matrix)\n",
    "    _matrix = transponateMatrix(_matrix)\n",
    "    determ = findDeterminant(_matrix)\n",
    "    if determ == 0:\n",
    "        return _matrix;\n",
    "    for i in range(2):\n",
    "        for j in range(2):\n",
    "            _matrix[i][j] /= determ\n",
    "    return _matrix\n",
    "\n",
    "\n",
    "def solveSystem(A, b):\n",
    "    x = np.array([0, 0])\n",
    "    x[0] = (b[0] - ((b[1] * A[0][1])/(A[1][1])))/(A[0][0] - ((A[1][0] * A[0][1])/(A[1][1])))\n",
    "    x[1] = (b[0] - A[0][0] * x[0])/ A[0][1]\n",
    "    return x\n",
    "\n",
    "def findNormOfMatrix(_matrix):\n",
    "    norm = 0\n",
    "    for i in range(2):\n",
    "        suminarow = 0\n",
    "        for j in range(2): \n",
    "            suminarow += math.fabs(_matrix[i][j])\n",
    "        if (norm < suminarow):\n",
    "            norm = suminarow\n",
    "        suminarow = 0\n",
    "    return norm\n",
    "\n",
    "def findCond(_matrix):\n",
    "    normofmatrix = findNormOfMatrix(_matrix)\n",
    "    _matrix = getInverse(_matrix)\n",
    "\n",
    "    normofsecondmatrix = findNormOfMatrix(_matrix)\n",
    "\n",
    "    return normofsecondmatrix * normofmatrix\n",
    "\n",
    "# Max of coefficients\n",
    "def findNormofvector(x):\n",
    "    x[0] = math.fabs(x[0])\n",
    "    x[1] = math.fabs(x[1])\n",
    "    return max(x)\n",
    "\n",
    "def findInfelicity(x1, x2):\n",
    "    vector = np.array([0, 0])\n",
    "    vector[0] = x2[0]- x1[0]\n",
    "    vector[1] = x2[1]- x1[1]\n",
    "    return findNormofvector(vector)/findNormofvector(x1)\n"
   ]
  },
  {
   "cell_type": "markdown",
   "metadata": {},
   "source": [
    "## Условия заданий"
   ]
  },
  {
   "cell_type": "markdown",
   "metadata": {},
   "source": [
    "<img src='task.PNG'>\n",
    "<img src='5.PNG'>"
   ]
  },
  {
   "cell_type": "code",
   "execution_count": 12,
   "metadata": {},
   "outputs": [],
   "source": [
    "def test():\n",
    "    A = np.zeros((2,2))\n",
    "    b = np.array([0,0])\n",
    "    _b = np.array([0,0])\n",
    "    \n",
    "    A[0][0] = -401.46\n",
    "    A[0][1] = 200.18\n",
    "    A[1][0] = 1201.08\n",
    "    A[1][1] = -601.64\n",
    "    \n",
    "    print(\"Determinant: \" + str(findDeterminant(A)))\n",
    "    \n",
    "\n",
    "    b[0] = 200\n",
    "    b[1] = -600\n",
    "    \n",
    "    print(\"Solution of the first system: \" + str(solveSystem(A,b)))\n",
    "    x1 = solveSystem(A,b)\n",
    "    \n",
    "    \n",
    "    _b[0] = 199\n",
    "    _b[1] = -601\n",
    "    \n",
    "    print(\"Solution of the second system: \" + str(solveSystem(A,_b)))\n",
    "    x2 = solveSystem(A,_b)\n",
    "    \n",
    "    print(\"Inverse matrix: \")\n",
    "    print(str(getInverse(A)))\n",
    "        \n",
    "    print(\"Cond: \" + str(findCond(A)))\n",
    "    cond = findCond(A)\n",
    "    \n",
    "    print(\"Infelicity: \" + str(findInfelicity(x1,x2)))\n",
    "    \n",
    "    vector = np.array([0,0])\n",
    "    vector[0] = b[0] - _b[0]\n",
    "    vector[1] = b[1] - _b[1]\n",
    "    #print( findNormofvector(b))\n",
    "    mark = findNormofvector(vector) / findNormofvector(b)\n",
    "    print(\"Mark <= \" + str(mark))"
   ]
  },
  {
   "cell_type": "code",
   "execution_count": 13,
   "metadata": {
    "scrolled": true
   },
   "outputs": [
    {
     "name": "stdout",
     "output_type": "stream",
     "text": [
      "Determinant: 1102.1999999999825\n",
      "Solution of the first system: [0 0]\n",
      "Solution of the second system: [0 0]\n",
      "Inverse matrix: \n",
      "[[-0.54585375 -0.18161858]\n",
      " [-1.08971149 -0.36423517]]\n",
      "Cond: 2621.0587087643307\n",
      "Infelicity: nan\n",
      "Mark <= 0.0016666666666666668\n"
     ]
    },
    {
     "name": "stderr",
     "output_type": "stream",
     "text": [
      "C:\\Program Files\\pyanac\\lib\\site-packages\\ipykernel_launcher.py:71: RuntimeWarning: invalid value encountered in long_scalars\n"
     ]
    }
   ],
   "source": [
    "test()"
   ]
  },
  {
   "cell_type": "code",
   "execution_count": null,
   "metadata": {},
   "outputs": [],
   "source": []
  }
 ],
 "metadata": {
  "kernelspec": {
   "display_name": "Python 3",
   "language": "python",
   "name": "python3"
  },
  "language_info": {
   "codemirror_mode": {
    "name": "ipython",
    "version": 3
   },
   "file_extension": ".py",
   "mimetype": "text/x-python",
   "name": "python",
   "nbconvert_exporter": "python",
   "pygments_lexer": "ipython3",
   "version": "3.7.3"
  }
 },
 "nbformat": 4,
 "nbformat_minor": 2
}
