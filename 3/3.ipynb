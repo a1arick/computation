{
 "cells": [
  {
   "cell_type": "markdown",
   "metadata": {},
   "source": [
    "<img src=\"task.PNG\">"
   ]
  },
  {
   "cell_type": "markdown",
   "metadata": {},
   "source": [
    "**Построить полиномы заданного порядка, вывести необходимые таблицы.\n",
    "Выполнить обратное интерполирование, считая, что у данной функции нет обратной, для этого построить многочлен нужной степени и, прировняв к заданному значению, найти корень уравнения** "
   ]
  },
  {
   "cell_type": "markdown",
   "metadata": {},
   "source": [
    "## Нужные библиотеки"
   ]
  },
  {
   "cell_type": "code",
   "execution_count": 1,
   "metadata": {},
   "outputs": [],
   "source": [
    "import numpy as np\n",
    "import matplotlib.pyplot as plt\n",
    "from sympy import *\n",
    "import pandas as pd"
   ]
  },
  {
   "cell_type": "markdown",
   "metadata": {},
   "source": [
    "## Используемые функции"
   ]
  },
  {
   "cell_type": "code",
   "execution_count": 41,
   "metadata": {
    "code_folding": []
   },
   "outputs": [],
   "source": [
    "def f(x):\n",
    "    return np.cos(x)\n",
    "\n",
    "def get_D(y):\n",
    "    d1 = np.array([])\n",
    "    d2 = np.array([])\n",
    "    d3 = np.array([])\n",
    "    d4 = np.array([])\n",
    "\n",
    "    for i in range(0, 5):\n",
    "        d1 = np.append(d1, y[i + 1] - y[i])\n",
    "        if (i > 0 & i < 5): \n",
    "            d2 = np.append(d2,d1[i] - d1[i - 1])\n",
    "            if (i > 1 & i < 5): \n",
    "                d3 = np.append(d3,d2[i - 1] - d2[i - 2])\n",
    "                if(i > 2 & i < 5): \n",
    "                    d4 = np.append(d4,d3[i -2] - d3[i - 3])\n",
    "    return d1,d2,d3,d4\n",
    "\n",
    "def find_i(x, h, x0):\n",
    "    j = 0\n",
    "    for i in range(x.size):\n",
    "        if(x[i]+h/2 > x0):\n",
    "            j = i\n",
    "            break\n",
    "    return j\n",
    "\n",
    "def P(x_iter, x0, y0, h, d1, d2, d3, d4):\n",
    "    t = (x_iter - x0) / h\n",
    "    result = y0 + t*d1 + (t*(t-1)/2) * d2 + (t*(t-1)*(t-2) / 6) * d3 + (t*(t-1)*(t-2)*(t-3) / 24) * d4\n",
    "    return result\n",
    "\n",
    "def evalPoly(a,xData,x): \n",
    "    n = len(xData) - 1 # Degree of polynomial \n",
    "    p = a[n] \n",
    "    for k in range(1,n+1): \n",
    "        p = a[n-k] + (x -xData[n-k])*p \n",
    "    return p\n",
    "\n",
    "def coeffts(xData,yData): \n",
    "    m = len(xData) \n",
    "    a = yData.copy() \n",
    "    for k in range(1,m): \n",
    "        a[k:m] = (a[k:m] - a[k-1])/(xData[k:m] - xData[k-1]) \n",
    "    return a"
   ]
  },
  {
   "cell_type": "markdown",
   "metadata": {},
   "source": [
    "### дано"
   ]
  },
  {
   "cell_type": "code",
   "execution_count": 3,
   "metadata": {},
   "outputs": [],
   "source": [
    "h = 0.1\n",
    "x0 = -(0.5)\n",
    "xn = 0.6"
   ]
  },
  {
   "cell_type": "markdown",
   "metadata": {},
   "source": [
    "<font color='red' size=\"5\">Таблица значений функции</font> "
   ]
  },
  {
   "cell_type": "code",
   "execution_count": 4,
   "metadata": {},
   "outputs": [
    {
     "data": {
      "text/html": [
       "<div>\n",
       "<style scoped>\n",
       "    .dataframe tbody tr th:only-of-type {\n",
       "        vertical-align: middle;\n",
       "    }\n",
       "\n",
       "    .dataframe tbody tr th {\n",
       "        vertical-align: top;\n",
       "    }\n",
       "\n",
       "    .dataframe thead th {\n",
       "        text-align: right;\n",
       "    }\n",
       "</style>\n",
       "<table border=\"1\" class=\"dataframe\">\n",
       "  <thead>\n",
       "    <tr style=\"text-align: right;\">\n",
       "      <th></th>\n",
       "      <th>x</th>\n",
       "      <th>cos(x)</th>\n",
       "    </tr>\n",
       "  </thead>\n",
       "  <tbody>\n",
       "    <tr>\n",
       "      <th>0</th>\n",
       "      <td>-5.000000e-01</td>\n",
       "      <td>0.877583</td>\n",
       "    </tr>\n",
       "    <tr>\n",
       "      <th>1</th>\n",
       "      <td>-4.000000e-01</td>\n",
       "      <td>0.921061</td>\n",
       "    </tr>\n",
       "    <tr>\n",
       "      <th>2</th>\n",
       "      <td>-3.000000e-01</td>\n",
       "      <td>0.955336</td>\n",
       "    </tr>\n",
       "    <tr>\n",
       "      <th>3</th>\n",
       "      <td>-2.000000e-01</td>\n",
       "      <td>0.980067</td>\n",
       "    </tr>\n",
       "    <tr>\n",
       "      <th>4</th>\n",
       "      <td>-1.000000e-01</td>\n",
       "      <td>0.995004</td>\n",
       "    </tr>\n",
       "    <tr>\n",
       "      <th>5</th>\n",
       "      <td>-1.110223e-16</td>\n",
       "      <td>1.000000</td>\n",
       "    </tr>\n",
       "    <tr>\n",
       "      <th>6</th>\n",
       "      <td>1.000000e-01</td>\n",
       "      <td>0.995004</td>\n",
       "    </tr>\n",
       "    <tr>\n",
       "      <th>7</th>\n",
       "      <td>2.000000e-01</td>\n",
       "      <td>0.980067</td>\n",
       "    </tr>\n",
       "    <tr>\n",
       "      <th>8</th>\n",
       "      <td>3.000000e-01</td>\n",
       "      <td>0.955336</td>\n",
       "    </tr>\n",
       "    <tr>\n",
       "      <th>9</th>\n",
       "      <td>4.000000e-01</td>\n",
       "      <td>0.921061</td>\n",
       "    </tr>\n",
       "    <tr>\n",
       "      <th>10</th>\n",
       "      <td>5.000000e-01</td>\n",
       "      <td>0.877583</td>\n",
       "    </tr>\n",
       "  </tbody>\n",
       "</table>\n",
       "</div>"
      ],
      "text/plain": [
       "               x    cos(x)\n",
       "0  -5.000000e-01  0.877583\n",
       "1  -4.000000e-01  0.921061\n",
       "2  -3.000000e-01  0.955336\n",
       "3  -2.000000e-01  0.980067\n",
       "4  -1.000000e-01  0.995004\n",
       "5  -1.110223e-16  1.000000\n",
       "6   1.000000e-01  0.995004\n",
       "7   2.000000e-01  0.980067\n",
       "8   3.000000e-01  0.955336\n",
       "9   4.000000e-01  0.921061\n",
       "10  5.000000e-01  0.877583"
      ]
     },
     "execution_count": 4,
     "metadata": {},
     "output_type": "execute_result"
    }
   ],
   "source": [
    "x = np.arange(x0, xn, h)\n",
    "y = [f(i) for i in x]\n",
    "d = {'x': x , 'cos(x)': y}\n",
    "df = pd.DataFrame(data=d)\n",
    "df"
   ]
  },
  {
   "cell_type": "markdown",
   "metadata": {},
   "source": [
    "<font color='red' size=\"5\">Конечные разницы</font> "
   ]
  },
  {
   "cell_type": "code",
   "execution_count": 5,
   "metadata": {},
   "outputs": [
    {
     "data": {
      "text/html": [
       "<div>\n",
       "<style scoped>\n",
       "    .dataframe tbody tr th:only-of-type {\n",
       "        vertical-align: middle;\n",
       "    }\n",
       "\n",
       "    .dataframe tbody tr th {\n",
       "        vertical-align: top;\n",
       "    }\n",
       "\n",
       "    .dataframe thead th {\n",
       "        text-align: right;\n",
       "    }\n",
       "</style>\n",
       "<table border=\"1\" class=\"dataframe\">\n",
       "  <thead>\n",
       "    <tr style=\"text-align: right;\">\n",
       "      <th></th>\n",
       "      <th>x</th>\n",
       "      <th>cos(x)</th>\n",
       "      <th>d1</th>\n",
       "      <th>d2</th>\n",
       "      <th>d3</th>\n",
       "      <th>d4</th>\n",
       "    </tr>\n",
       "  </thead>\n",
       "  <tbody>\n",
       "    <tr>\n",
       "      <th>0</th>\n",
       "      <td>-5.000000e-01</td>\n",
       "      <td>0.877583</td>\n",
       "      <td>0.043478</td>\n",
       "      <td>-0.009203</td>\n",
       "      <td>-0.000342</td>\n",
       "      <td>0.000095</td>\n",
       "    </tr>\n",
       "    <tr>\n",
       "      <th>1</th>\n",
       "      <td>-4.000000e-01</td>\n",
       "      <td>0.921061</td>\n",
       "      <td>0.034275</td>\n",
       "      <td>-0.009545</td>\n",
       "      <td>-0.000247</td>\n",
       "      <td>0.000098</td>\n",
       "    </tr>\n",
       "    <tr>\n",
       "      <th>2</th>\n",
       "      <td>-3.000000e-01</td>\n",
       "      <td>0.955336</td>\n",
       "      <td>0.024730</td>\n",
       "      <td>-0.009793</td>\n",
       "      <td>-0.000149</td>\n",
       "      <td>0.000099</td>\n",
       "    </tr>\n",
       "    <tr>\n",
       "      <th>3</th>\n",
       "      <td>-2.000000e-01</td>\n",
       "      <td>0.980067</td>\n",
       "      <td>0.014938</td>\n",
       "      <td>-0.009942</td>\n",
       "      <td>-0.000050</td>\n",
       "      <td>0.000100</td>\n",
       "    </tr>\n",
       "    <tr>\n",
       "      <th>4</th>\n",
       "      <td>-1.000000e-01</td>\n",
       "      <td>0.995004</td>\n",
       "      <td>0.004996</td>\n",
       "      <td>-0.009992</td>\n",
       "      <td>0.000050</td>\n",
       "      <td>0.000099</td>\n",
       "    </tr>\n",
       "    <tr>\n",
       "      <th>5</th>\n",
       "      <td>-1.110223e-16</td>\n",
       "      <td>1.000000</td>\n",
       "      <td>-0.004996</td>\n",
       "      <td>-0.009942</td>\n",
       "      <td>0.000149</td>\n",
       "      <td>0.000098</td>\n",
       "    </tr>\n",
       "    <tr>\n",
       "      <th>6</th>\n",
       "      <td>1.000000e-01</td>\n",
       "      <td>0.995004</td>\n",
       "      <td>-0.014938</td>\n",
       "      <td>-0.009793</td>\n",
       "      <td>0.000247</td>\n",
       "      <td>0.000095</td>\n",
       "    </tr>\n",
       "    <tr>\n",
       "      <th>7</th>\n",
       "      <td>2.000000e-01</td>\n",
       "      <td>0.980067</td>\n",
       "      <td>-0.024730</td>\n",
       "      <td>-0.009545</td>\n",
       "      <td>0.000342</td>\n",
       "      <td>NaN</td>\n",
       "    </tr>\n",
       "    <tr>\n",
       "      <th>8</th>\n",
       "      <td>3.000000e-01</td>\n",
       "      <td>0.955336</td>\n",
       "      <td>-0.034275</td>\n",
       "      <td>-0.009203</td>\n",
       "      <td>NaN</td>\n",
       "      <td>NaN</td>\n",
       "    </tr>\n",
       "    <tr>\n",
       "      <th>9</th>\n",
       "      <td>4.000000e-01</td>\n",
       "      <td>0.921061</td>\n",
       "      <td>-0.043478</td>\n",
       "      <td>NaN</td>\n",
       "      <td>NaN</td>\n",
       "      <td>NaN</td>\n",
       "    </tr>\n",
       "    <tr>\n",
       "      <th>10</th>\n",
       "      <td>5.000000e-01</td>\n",
       "      <td>0.877583</td>\n",
       "      <td>NaN</td>\n",
       "      <td>NaN</td>\n",
       "      <td>NaN</td>\n",
       "      <td>NaN</td>\n",
       "    </tr>\n",
       "  </tbody>\n",
       "</table>\n",
       "</div>"
      ],
      "text/plain": [
       "               x    cos(x)        d1        d2        d3        d4\n",
       "0  -5.000000e-01  0.877583  0.043478 -0.009203 -0.000342  0.000095\n",
       "1  -4.000000e-01  0.921061  0.034275 -0.009545 -0.000247  0.000098\n",
       "2  -3.000000e-01  0.955336  0.024730 -0.009793 -0.000149  0.000099\n",
       "3  -2.000000e-01  0.980067  0.014938 -0.009942 -0.000050  0.000100\n",
       "4  -1.000000e-01  0.995004  0.004996 -0.009992  0.000050  0.000099\n",
       "5  -1.110223e-16  1.000000 -0.004996 -0.009942  0.000149  0.000098\n",
       "6   1.000000e-01  0.995004 -0.014938 -0.009793  0.000247  0.000095\n",
       "7   2.000000e-01  0.980067 -0.024730 -0.009545  0.000342       NaN\n",
       "8   3.000000e-01  0.955336 -0.034275 -0.009203       NaN       NaN\n",
       "9   4.000000e-01  0.921061 -0.043478       NaN       NaN       NaN\n",
       "10  5.000000e-01  0.877583       NaN       NaN       NaN       NaN"
      ]
     },
     "execution_count": 5,
     "metadata": {},
     "output_type": "execute_result"
    }
   ],
   "source": [
    "d1, d2, d3, d4 = get_D(y)\n",
    " \n",
    "df[\"d1\"] = pd.Series(d1)\n",
    "df[\"d2\"] = pd.Series(d2)\n",
    "df[\"d3\"] = pd.Series(d3)\n",
    "df[\"d4\"] = pd.Series(d4)\n",
    "\n",
    "df"
   ]
  },
  {
   "cell_type": "markdown",
   "metadata": {},
   "source": [
    "<font color='red' size=\"5\">Значения функции в точках интерполирования</font> "
   ]
  },
  {
   "cell_type": "code",
   "execution_count": 6,
   "metadata": {},
   "outputs": [],
   "source": [
    "i = find_i(x, h, 0.05)\n",
    "\n",
    "delta_y_0 = y[i]\n",
    "\n",
    "if(i+1 >= d1.size):\n",
    "    delta_y_1 = 0\n",
    "else:\n",
    "    delta_y_1 = d1[i+1]\n",
    "if(i+2 >= d2.size):\n",
    "    delta_y_2 = 0\n",
    "else:\n",
    "    delta_y_2 = d2[i+2]\n",
    "if(i+3 >= d3.size):\n",
    "    delta_y_3 = 0\n",
    "else\n",
    "    delta_y_3 = d3[i+3]\n",
    "if(i+4 >= d4.size):\n",
    "    delta_y_4 = 0\n",
    "else:\n",
    "    delta_y_4 = d4[i+4]\n",
    "\n",
    "p = P(0.05, x[i], delta_y_0, h, delta_y_1, delta_y_2, delta_y_3, delta_y_4)"
   ]
  },
  {
   "cell_type": "code",
   "execution_count": 7,
   "metadata": {},
   "outputs": [],
   "source": [
    "ff = f(0.05)"
   ]
  },
  {
   "cell_type": "code",
   "execution_count": 8,
   "metadata": {},
   "outputs": [],
   "source": [
    "error = abs(ff - p)"
   ]
  },
  {
   "cell_type": "code",
   "execution_count": 9,
   "metadata": {},
   "outputs": [
    {
     "data": {
      "text/plain": [
       "0.0051678478697054775"
      ]
     },
     "execution_count": 9,
     "metadata": {},
     "output_type": "execute_result"
    }
   ],
   "source": [
    "error"
   ]
  },
  {
   "cell_type": "markdown",
   "metadata": {},
   "source": [
    "<font color='red' size=\"5\">Интерполирование в неравностоящих узлах</font> "
   ]
  },
  {
   "cell_type": "code",
   "execution_count": 42,
   "metadata": {},
   "outputs": [],
   "source": [
    "x = np.array([-0.5, -0.3, -0.1, 0, 0.2, 0.5])"
   ]
  },
  {
   "cell_type": "code",
   "execution_count": 43,
   "metadata": {
    "scrolled": false
   },
   "outputs": [
    {
     "data": {
      "text/html": [
       "<div>\n",
       "<style scoped>\n",
       "    .dataframe tbody tr th:only-of-type {\n",
       "        vertical-align: middle;\n",
       "    }\n",
       "\n",
       "    .dataframe tbody tr th {\n",
       "        vertical-align: top;\n",
       "    }\n",
       "\n",
       "    .dataframe thead th {\n",
       "        text-align: right;\n",
       "    }\n",
       "</style>\n",
       "<table border=\"1\" class=\"dataframe\">\n",
       "  <thead>\n",
       "    <tr style=\"text-align: right;\">\n",
       "      <th></th>\n",
       "      <th>x</th>\n",
       "      <th>cos(x)</th>\n",
       "    </tr>\n",
       "  </thead>\n",
       "  <tbody>\n",
       "    <tr>\n",
       "      <th>0</th>\n",
       "      <td>-0.5</td>\n",
       "      <td>0.877583</td>\n",
       "    </tr>\n",
       "    <tr>\n",
       "      <th>1</th>\n",
       "      <td>-0.3</td>\n",
       "      <td>0.955336</td>\n",
       "    </tr>\n",
       "    <tr>\n",
       "      <th>2</th>\n",
       "      <td>-0.1</td>\n",
       "      <td>0.995004</td>\n",
       "    </tr>\n",
       "    <tr>\n",
       "      <th>3</th>\n",
       "      <td>0.0</td>\n",
       "      <td>1.000000</td>\n",
       "    </tr>\n",
       "    <tr>\n",
       "      <th>4</th>\n",
       "      <td>0.2</td>\n",
       "      <td>0.980067</td>\n",
       "    </tr>\n",
       "    <tr>\n",
       "      <th>5</th>\n",
       "      <td>0.5</td>\n",
       "      <td>0.877583</td>\n",
       "    </tr>\n",
       "  </tbody>\n",
       "</table>\n",
       "</div>"
      ],
      "text/plain": [
       "     x    cos(x)\n",
       "0 -0.5  0.877583\n",
       "1 -0.3  0.955336\n",
       "2 -0.1  0.995004\n",
       "3  0.0  1.000000\n",
       "4  0.2  0.980067\n",
       "5  0.5  0.877583"
      ]
     },
     "execution_count": 43,
     "metadata": {},
     "output_type": "execute_result"
    }
   ],
   "source": [
    "y = [f(i) for i in x]\n",
    "d = {'x': x , 'cos(x)': y}\n",
    "df = pd.DataFrame(data=d)\n",
    "df"
   ]
  },
  {
   "cell_type": "code",
   "execution_count": 44,
   "metadata": {},
   "outputs": [
    {
     "data": {
      "text/plain": [
       "[0.8775825618903728,\n",
       " 0.955336489125606,\n",
       " 0.9950041652780258,\n",
       " 1.0,\n",
       " 0.9800665778412416,\n",
       " 0.8775825618903728]"
      ]
     },
     "execution_count": 44,
     "metadata": {},
     "output_type": "execute_result"
    }
   ],
   "source": [
    "y"
   ]
  },
  {
   "cell_type": "code",
   "execution_count": 45,
   "metadata": {},
   "outputs": [
    {
     "data": {
      "text/html": [
       "<div>\n",
       "<style scoped>\n",
       "    .dataframe tbody tr th:only-of-type {\n",
       "        vertical-align: middle;\n",
       "    }\n",
       "\n",
       "    .dataframe tbody tr th {\n",
       "        vertical-align: top;\n",
       "    }\n",
       "\n",
       "    .dataframe thead th {\n",
       "        text-align: right;\n",
       "    }\n",
       "</style>\n",
       "<table border=\"1\" class=\"dataframe\">\n",
       "  <thead>\n",
       "    <tr style=\"text-align: right;\">\n",
       "      <th></th>\n",
       "      <th>x</th>\n",
       "      <th>cos(x)</th>\n",
       "      <th>d1</th>\n",
       "      <th>d2</th>\n",
       "      <th>d3</th>\n",
       "      <th>d4</th>\n",
       "    </tr>\n",
       "  </thead>\n",
       "  <tbody>\n",
       "    <tr>\n",
       "      <th>0</th>\n",
       "      <td>-0.5</td>\n",
       "      <td>0.877583</td>\n",
       "      <td>0.077754</td>\n",
       "      <td>-0.038086</td>\n",
       "      <td>0.003414</td>\n",
       "      <td>0.006328</td>\n",
       "    </tr>\n",
       "    <tr>\n",
       "      <th>1</th>\n",
       "      <td>-0.3</td>\n",
       "      <td>0.955336</td>\n",
       "      <td>0.039668</td>\n",
       "      <td>-0.034672</td>\n",
       "      <td>0.009743</td>\n",
       "      <td>-0.067364</td>\n",
       "    </tr>\n",
       "    <tr>\n",
       "      <th>2</th>\n",
       "      <td>-0.1</td>\n",
       "      <td>0.995004</td>\n",
       "      <td>0.004996</td>\n",
       "      <td>-0.024929</td>\n",
       "      <td>-0.057621</td>\n",
       "      <td>NaN</td>\n",
       "    </tr>\n",
       "    <tr>\n",
       "      <th>3</th>\n",
       "      <td>0.0</td>\n",
       "      <td>1.000000</td>\n",
       "      <td>-0.019933</td>\n",
       "      <td>-0.082551</td>\n",
       "      <td>NaN</td>\n",
       "      <td>NaN</td>\n",
       "    </tr>\n",
       "    <tr>\n",
       "      <th>4</th>\n",
       "      <td>0.2</td>\n",
       "      <td>0.980067</td>\n",
       "      <td>-0.102484</td>\n",
       "      <td>NaN</td>\n",
       "      <td>NaN</td>\n",
       "      <td>NaN</td>\n",
       "    </tr>\n",
       "    <tr>\n",
       "      <th>5</th>\n",
       "      <td>0.5</td>\n",
       "      <td>0.877583</td>\n",
       "      <td>NaN</td>\n",
       "      <td>NaN</td>\n",
       "      <td>NaN</td>\n",
       "      <td>NaN</td>\n",
       "    </tr>\n",
       "  </tbody>\n",
       "</table>\n",
       "</div>"
      ],
      "text/plain": [
       "     x    cos(x)        d1        d2        d3        d4\n",
       "0 -0.5  0.877583  0.077754 -0.038086  0.003414  0.006328\n",
       "1 -0.3  0.955336  0.039668 -0.034672  0.009743 -0.067364\n",
       "2 -0.1  0.995004  0.004996 -0.024929 -0.057621       NaN\n",
       "3  0.0  1.000000 -0.019933 -0.082551       NaN       NaN\n",
       "4  0.2  0.980067 -0.102484       NaN       NaN       NaN\n",
       "5  0.5  0.877583       NaN       NaN       NaN       NaN"
      ]
     },
     "execution_count": 45,
     "metadata": {},
     "output_type": "execute_result"
    }
   ],
   "source": [
    "dd1, dd2, dd3, dd4 = get_D(y)\n",
    " \n",
    "df[\"d1\"] = pd.Series(dd1)\n",
    "df[\"d2\"] = pd.Series(dd2)\n",
    "df[\"d3\"] = pd.Series(dd3)\n",
    "df[\"d4\"] = pd.Series(dd4)\n",
    "\n",
    "df"
   ]
  },
  {
   "cell_type": "code",
   "execution_count": 46,
   "metadata": {},
   "outputs": [],
   "source": [
    "a = coeffts(x,y)"
   ]
  },
  {
   "cell_type": "code",
   "execution_count": 48,
   "metadata": {},
   "outputs": [],
   "source": [
    "p = evalPoly(a,x,0.05)\n",
    "ff = f(0.05)\n",
    "error = abs(ff - p)"
   ]
  },
  {
   "cell_type": "code",
   "execution_count": 49,
   "metadata": {},
   "outputs": [
    {
     "data": {
      "text/plain": [
       "1.3455032299436454e-07"
      ]
     },
     "execution_count": 49,
     "metadata": {},
     "output_type": "execute_result"
    }
   ],
   "source": [
    "error"
   ]
  },
  {
   "cell_type": "code",
   "execution_count": null,
   "metadata": {},
   "outputs": [],
   "source": []
  }
 ],
 "metadata": {
  "kernelspec": {
   "display_name": "Python 3",
   "language": "python",
   "name": "python3"
  },
  "language_info": {
   "codemirror_mode": {
    "name": "ipython",
    "version": 3
   },
   "file_extension": ".py",
   "mimetype": "text/x-python",
   "name": "python",
   "nbconvert_exporter": "python",
   "pygments_lexer": "ipython3",
   "version": "3.7.3"
  }
 },
 "nbformat": 4,
 "nbformat_minor": 2
}
