{
 "cells": [
  {
   "cell_type": "markdown",
   "metadata": {},
   "source": [
    "### Библиотеки"
   ]
  },
  {
   "cell_type": "code",
   "execution_count": 66,
   "metadata": {},
   "outputs": [],
   "source": [
    "import numpy as np\n",
    "from scipy.integrate import quad"
   ]
  },
  {
   "cell_type": "markdown",
   "metadata": {},
   "source": [
    "### Глобальные перменные"
   ]
  },
  {
   "cell_type": "code",
   "execution_count": 67,
   "metadata": {},
   "outputs": [],
   "source": [
    "a = 0\n",
    "b = 1\n",
    "knot = 3\n",
    "knot_Gauss = 2"
   ]
  },
  {
   "cell_type": "markdown",
   "metadata": {},
   "source": [
    "### Интегрируемая функция"
   ]
  },
  {
   "cell_type": "code",
   "execution_count": 68,
   "metadata": {},
   "outputs": [],
   "source": [
    "def f(x):\n",
    "    return np.exp(x) / np.cbrt(x)"
   ]
  },
  {
   "cell_type": "markdown",
   "metadata": {},
   "source": [
    "### Реализуемые методы"
   ]
  },
  {
   "cell_type": "code",
   "execution_count": 69,
   "metadata": {},
   "outputs": [],
   "source": [
    "def get_exact_integral():\n",
    "    res, err = quad(f, a, b)\n",
    "    return res"
   ]
  },
  {
   "cell_type": "code",
   "execution_count": 70,
   "metadata": {},
   "outputs": [],
   "source": [
    "def get_middle_rectangle_method():\n",
    "    result = 0.0\n",
    "    h = (b - a) / knot\n",
    "    alpha = a + (h / 2)\n",
    "    for i in range(knot):        \n",
    "        result += f(alpha + i*h)\n",
    "    return h * result    "
   ]
  },
  {
   "cell_type": "code",
   "execution_count": 71,
   "metadata": {},
   "outputs": [],
   "source": [
    "def get_Gauss_method():\n",
    "    result = 0.0\n",
    "    result += f((a + b + (b - a) * (1 / np.cbrt(3))) / 2)\n",
    "    result += f((a + b + (b - a) * (-1 / np.cbrt(3))) / 2)\n",
    "    return result * (b - a) / 2"
   ]
  },
  {
   "cell_type": "markdown",
   "metadata": {},
   "source": [
    "### Другие нужные функции"
   ]
  },
  {
   "cell_type": "code",
   "execution_count": 72,
   "metadata": {},
   "outputs": [],
   "source": [
    "def det(x1, x2, x3, x4):\n",
    "    return (x1 * x3) - (x2 * x4)"
   ]
  },
  {
   "cell_type": "code",
   "execution_count": 73,
   "metadata": {},
   "outputs": [],
   "source": [
    "def show_method(method):\n",
    "    print(\"Integral: \", method)\n",
    "    print(\"Infelicity: \", abs(get_exact_integral() - method))"
   ]
  },
  {
   "cell_type": "code",
   "execution_count": 74,
   "metadata": {},
   "outputs": [],
   "source": [
    "def solve_system(a_1, a_2):\n",
    "    x_1 = (-a_1 + np.sqrt(pow(a_1, 2) - 4*a_2))/2\n",
    "    x_2 = (-a_1 - np.sqrt(pow(a_1, 2) - 4*a_2))/2\n",
    "    return np.array([x_1, x_2])"
   ]
  },
  {
   "cell_type": "markdown",
   "metadata": {},
   "source": [
    "# Выполнение заданий"
   ]
  },
  {
   "cell_type": "markdown",
   "metadata": {},
   "source": [
    "<img src='task.PNG'>"
   ]
  },
  {
   "cell_type": "markdown",
   "metadata": {},
   "source": [
    "#### 1)  “Точно”"
   ]
  },
  {
   "cell_type": "code",
   "execution_count": 76,
   "metadata": {},
   "outputs": [
    {
     "name": "stdout",
     "output_type": "stream",
     "text": [
      "Integral:  2.34359109332597\n",
      "Infelicity:  0.0\n"
     ]
    }
   ],
   "source": [
    "show_method(get_exact_integral())"
   ]
  },
  {
   "cell_type": "markdown",
   "metadata": {},
   "source": [
    "####  2) По формуле средних прямоугольников с тремя узлами.\n"
   ]
  },
  {
   "cell_type": "code",
   "execution_count": 77,
   "metadata": {},
   "outputs": [
    {
     "name": "stdout",
     "output_type": "stream",
     "text": [
      "Integral:  2.2230282386930704\n",
      "Infelicity:  0.12056285463289962\n"
     ]
    }
   ],
   "source": [
    "show_method(get_middle_rectangle_method())"
   ]
  },
  {
   "cell_type": "markdown",
   "metadata": {},
   "source": [
    "#### 3) Построить интерполяционную формулу с весом $\\frac{1}{\\sqrt{1-x}}$ по узлам $x_1=\\frac{1}{6}$, $x_2=\\frac{1}{2}$, $x_3=\\frac{5}{6}$  и вычислить интеграл по этой формуле"
   ]
  },
  {
   "cell_type": "markdown",
   "metadata": {},
   "source": [
    "<img src='3.jpg'>"
   ]
  },
  {
   "cell_type": "code",
   "execution_count": 78,
   "metadata": {},
   "outputs": [
    {
     "name": "stdout",
     "output_type": "stream",
     "text": [
      "Integral:  2.555184490706714\n",
      "Infelicity:  0.211593397380744\n"
     ]
    }
   ],
   "source": [
    "x_1, x_2, x_3 = 1/6, 1/2, 1/3\n",
    "A_1, A_2, A_3 = 0.9, 0.15, 0.45\n",
    "integral_method_3 = A_1 * f(x_1) + A_2 * f(x_2) + A_2 * f(x_2)\n",
    "show_method(integral_method_3)"
   ]
  },
  {
   "cell_type": "markdown",
   "metadata": {},
   "source": [
    "#### 4) По формуле Гаусса с двумя узлами"
   ]
  },
  {
   "cell_type": "markdown",
   "metadata": {},
   "source": [
    "<img src='4.jpg'>"
   ]
  },
  {
   "cell_type": "code",
   "execution_count": 79,
   "metadata": {},
   "outputs": [
    {
     "name": "stdout",
     "output_type": "stream",
     "text": [
      "Integral:  2.321446999344672\n",
      "Infelicity:  0.02214409398129824\n"
     ]
    }
   ],
   "source": [
    "show_method(get_Gauss_method())"
   ]
  },
  {
   "cell_type": "markdown",
   "metadata": {},
   "source": [
    "#### 5) Построить формулу типа Гаусса с двумя узлами и вычислить интеграл по этой формуле"
   ]
  },
  {
   "cell_type": "markdown",
   "metadata": {},
   "source": [
    "<img src='5.jpg'>"
   ]
  },
  {
   "cell_type": "code",
   "execution_count": 80,
   "metadata": {},
   "outputs": [
    {
     "name": "stdout",
     "output_type": "stream",
     "text": [
      "a_1 = 1.1818181818181819\n",
      "a_2 = -0.18181818181818182\n",
      "x_1 = 0.13778270644915447\n",
      "x_2 = -1.3196008882673365\n",
      "A_1 = 1.7698849786372017\n",
      "A_2 = -0.2698849786372017\n",
      "Integral:  3.9987059121961606\n",
      "Infelicity:  1.6551148188701905\n"
     ]
    }
   ],
   "source": [
    "m_0, m_1, m_2, m_3 = 3/2, 3/5, 3/8, 3/11\n",
    "a_1 = det(- m_2, m_0, - m_3, m_1)/ det(m_1, m_0, m_2, m_1)\n",
    "a_2 = det(m_1, - m_2, m_2, - m_3)/ det(m_1, m_0, m_2, m_1)\n",
    "print(\"a_1 =\", a_1)\n",
    "print(\"a_2 =\", a_2)\n",
    "x = solve_system(a_1, a_2)\n",
    "print(\"x_1 =\", x[0])\n",
    "print(\"x_2 =\", x[1])\n",
    "A_1 = (m_1 - x[1] * m_0) / (x[0] - x[1])\n",
    "A_2 = (m_1 - x[0] * m_0) / (x[1] - x[0])\n",
    "print(\"A_1 =\", A_1)\n",
    "print(\"A_2 =\", A_2)\n",
    "integral_method_5 = f(x[0]) * A_1 + f(x[1]) * A_2\n",
    "show_method(integral_method_5)"
   ]
  },
  {
   "cell_type": "code",
   "execution_count": null,
   "metadata": {},
   "outputs": [],
   "source": []
  }
 ],
 "metadata": {
  "kernelspec": {
   "display_name": "Python 3",
   "language": "python",
   "name": "python3"
  },
  "language_info": {
   "codemirror_mode": {
    "name": "ipython",
    "version": 3
   },
   "file_extension": ".py",
   "mimetype": "text/x-python",
   "name": "python",
   "nbconvert_exporter": "python",
   "pygments_lexer": "ipython3",
   "version": "3.7.3"
  }
 },
 "nbformat": 4,
 "nbformat_minor": 2
}
